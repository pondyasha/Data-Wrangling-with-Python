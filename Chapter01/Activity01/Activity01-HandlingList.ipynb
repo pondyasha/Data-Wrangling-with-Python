{
 "cells": [
  {
   "cell_type": "markdown",
   "metadata": {},
   "source": [
    "# Create a list of random numbers and then create another list from this one whose elements are divisible by three. Also repeat the experiment few times (at least three times) and calculate the arithimetic mean of the differenence of length of the two lists"
   ]
  },
  {
   "cell_type": "markdown",
   "metadata": {},
   "source": [
    "### Task-1\n",
    "\n",
    "Create a list of random numbers (at least 100 in length but we encourage you to play with the length)\n",
    "\n",
    "__Pay attention so that this list has as less number of duplicates as possible__"
   ]
  },
  {
   "cell_type": "code",
   "execution_count": 18,
   "metadata": {},
   "outputs": [],
   "source": [
    "### Write your code here below this comment\n",
    "\n",
    "import pandas as pd\n",
    "import numpy as np\n",
    "import random \n",
    "\n",
    "rand_num = random.randint(0,100+1)\n"
   ]
  },
  {
   "cell_type": "code",
   "execution_count": 23,
   "metadata": {},
   "outputs": [],
   "source": [
    "a = []\n",
    "for i in range(100):\n",
    "    i = random.randint(0,100+1)\n",
    "    a.append(i)\n"
   ]
  },
  {
   "cell_type": "code",
   "execution_count": 29,
   "metadata": {},
   "outputs": [],
   "source": [
    "a = [random.randint(0,100+1) for i in range(100)]"
   ]
  },
  {
   "cell_type": "code",
   "execution_count": 30,
   "metadata": {},
   "outputs": [
    {
     "data": {
      "text/plain": [
       "[98,\n",
       " 61,\n",
       " 2,\n",
       " 38,\n",
       " 51,\n",
       " 22,\n",
       " 78,\n",
       " 71,\n",
       " 73,\n",
       " 69,\n",
       " 1,\n",
       " 48,\n",
       " 61,\n",
       " 23,\n",
       " 83,\n",
       " 43,\n",
       " 40,\n",
       " 97,\n",
       " 34,\n",
       " 86,\n",
       " 76,\n",
       " 8,\n",
       " 79,\n",
       " 9,\n",
       " 69,\n",
       " 63,\n",
       " 27,\n",
       " 20,\n",
       " 63,\n",
       " 56,\n",
       " 38,\n",
       " 74,\n",
       " 60,\n",
       " 77,\n",
       " 89,\n",
       " 32,\n",
       " 55,\n",
       " 72,\n",
       " 50,\n",
       " 58,\n",
       " 61,\n",
       " 92,\n",
       " 23,\n",
       " 25,\n",
       " 6,\n",
       " 24,\n",
       " 99,\n",
       " 65,\n",
       " 68,\n",
       " 25,\n",
       " 77,\n",
       " 85,\n",
       " 81,\n",
       " 43,\n",
       " 24,\n",
       " 14,\n",
       " 5,\n",
       " 87,\n",
       " 64,\n",
       " 44,\n",
       " 76,\n",
       " 45,\n",
       " 22,\n",
       " 19,\n",
       " 50,\n",
       " 58,\n",
       " 79,\n",
       " 99,\n",
       " 11,\n",
       " 52,\n",
       " 17,\n",
       " 4,\n",
       " 0,\n",
       " 8,\n",
       " 70,\n",
       " 10,\n",
       " 32,\n",
       " 91,\n",
       " 56,\n",
       " 11,\n",
       " 81,\n",
       " 48,\n",
       " 21,\n",
       " 76,\n",
       " 55,\n",
       " 78,\n",
       " 6,\n",
       " 79,\n",
       " 9,\n",
       " 72,\n",
       " 35,\n",
       " 25,\n",
       " 2,\n",
       " 39,\n",
       " 14,\n",
       " 0,\n",
       " 28,\n",
       " 17,\n",
       " 94,\n",
       " 0]"
      ]
     },
     "execution_count": 30,
     "metadata": {},
     "output_type": "execute_result"
    }
   ],
   "source": [
    "a"
   ]
  },
  {
   "cell_type": "code",
   "execution_count": 31,
   "metadata": {},
   "outputs": [
    {
     "name": "stdout",
     "output_type": "stream",
     "text": [
      "<bound method IndexOpsMixin.value_counts of 0     98\n",
      "1     61\n",
      "2      2\n",
      "3     38\n",
      "4     51\n",
      "      ..\n",
      "95     0\n",
      "96    28\n",
      "97    17\n",
      "98    94\n",
      "99     0\n",
      "Length: 100, dtype: int64>\n"
     ]
    }
   ],
   "source": [
    "print(pd.Series(a).value_counts)"
   ]
  },
  {
   "cell_type": "code",
   "execution_count": null,
   "metadata": {},
   "outputs": [],
   "source": []
  },
  {
   "cell_type": "markdown",
   "metadata": {},
   "source": [
    "### Task-2\n",
    "\n",
    "Write a list comprehension to generate a second list from the one you just created. The condition of membership in the second list is divisibility by 3."
   ]
  },
  {
   "cell_type": "code",
   "execution_count": 2,
   "metadata": {},
   "outputs": [],
   "source": [
    "### Write your code bellow this comment"
   ]
  },
  {
   "cell_type": "markdown",
   "metadata": {},
   "source": [
    "### Task-3\n",
    "\n",
    "- Use the `len` function to measure the length of the first list and the second list\n",
    "- Store both in two different variables\n",
    "- Calculate the difference of length between them"
   ]
  },
  {
   "cell_type": "code",
   "execution_count": 3,
   "metadata": {},
   "outputs": [],
   "source": [
    "### Write your code below this comment"
   ]
  },
  {
   "cell_type": "markdown",
   "metadata": {},
   "source": [
    "### Task-4\n",
    "\n",
    "- Pack `Task-2` and `Task-3` in a single while loop and perform them few times in such a way that at the end you have a list with difference of length\n",
    "- End the while loop when desired number of experiments are finished (at least three, please feel free to do more)\n",
    "- Calculate the arithmetic mean (common average) on the difference of length that you have. (How to sum all values of a list?)"
   ]
  },
  {
   "cell_type": "code",
   "execution_count": 4,
   "metadata": {},
   "outputs": [],
   "source": [
    "### Write your code below this comment."
   ]
  }
 ],
 "metadata": {
  "kernelspec": {
   "display_name": "Python 3 (ipykernel)",
   "language": "python",
   "name": "python3"
  },
  "language_info": {
   "codemirror_mode": {
    "name": "ipython",
    "version": 3
   },
   "file_extension": ".py",
   "mimetype": "text/x-python",
   "name": "python",
   "nbconvert_exporter": "python",
   "pygments_lexer": "ipython3",
   "version": "3.10.8"
  }
 },
 "nbformat": 4,
 "nbformat_minor": 4
}
